{
 "cells": [
  {
   "cell_type": "code",
   "execution_count": 1,
   "id": "fe4e2ea8",
   "metadata": {
    "execution": {
     "iopub.execute_input": "2023-01-14T19:48:24.006271Z",
     "iopub.status.busy": "2023-01-14T19:48:24.004277Z",
     "iopub.status.idle": "2023-01-14T19:48:24.025385Z",
     "shell.execute_reply": "2023-01-14T19:48:24.024382Z"
    },
    "lines_to_next_cell": 2,
    "papermill": {
     "duration": 0.035104,
     "end_time": "2023-01-14T19:48:24.028414",
     "exception": false,
     "start_time": "2023-01-14T19:48:23.993310",
     "status": "completed"
    },
    "tags": [
     "parameters"
    ]
   },
   "outputs": [],
   "source": [
    "# declare a list tasks whose products you want to use as inputs\n",
    "upstream = ['clean','preprocess']\n",
    "\n",
    "product = None"
   ]
  },
  {
   "cell_type": "code",
   "execution_count": 2,
   "id": "3ab3a115",
   "metadata": {
    "execution": {
     "iopub.execute_input": "2023-01-14T19:48:24.037268Z",
     "iopub.status.busy": "2023-01-14T19:48:24.037268Z",
     "iopub.status.idle": "2023-01-14T19:48:24.056531Z",
     "shell.execute_reply": "2023-01-14T19:48:24.056127Z"
    },
    "papermill": {
     "duration": 0.025296,
     "end_time": "2023-01-14T19:48:24.058562",
     "exception": false,
     "start_time": "2023-01-14T19:48:24.033266",
     "status": "completed"
    },
    "tags": [
     "injected-parameters"
    ]
   },
   "outputs": [],
   "source": [
    "# Parameters\n",
    "upstream = {\n",
    "    \"preprocess\": {\n",
    "        \"nb\": \"C:\\\\Users\\\\Admin\\\\pipeline_project\\\\products\\\\preprocess.ipynb\",\n",
    "        \"data\": \"C:\\\\Users\\\\Admin\\\\pipeline_project\\\\products\\\\preprocess.csv\",\n",
    "    },\n",
    "    \"clean\": {\n",
    "        \"nb\": \"C:\\\\Users\\\\Admin\\\\pipeline_project\\\\products\\\\clean.ipynb\",\n",
    "        \"data\": \"C:\\\\Users\\\\Admin\\\\pipeline_project\\\\products\\\\clean.csv\",\n",
    "    },\n",
    "}\n",
    "product = {\n",
    "    \"nb\": \"C:\\\\Users\\\\Admin\\\\pipeline_project\\\\products\\\\feature_eng.ipynb\",\n",
    "    \"data\": \"C:\\\\Users\\\\Admin\\\\pipeline_project\\\\products\\\\feature_eng.csv\",\n",
    "}\n"
   ]
  },
  {
   "cell_type": "code",
   "execution_count": 3,
   "id": "d348bf13",
   "metadata": {
    "execution": {
     "iopub.execute_input": "2023-01-14T19:48:24.063548Z",
     "iopub.status.busy": "2023-01-14T19:48:24.063548Z",
     "iopub.status.idle": "2023-01-14T19:48:24.071513Z",
     "shell.execute_reply": "2023-01-14T19:48:24.071294Z"
    },
    "papermill": {
     "duration": 0.012989,
     "end_time": "2023-01-14T19:48:24.073545",
     "exception": false,
     "start_time": "2023-01-14T19:48:24.060556",
     "status": "completed"
    },
    "tags": []
   },
   "outputs": [],
   "source": [
    "# Parameters\n",
    "upstream = {\n",
    "    \"clean\": {\n",
    "        \"nb\": \"C:\\\\Users\\\\Admin\\\\pipeline_project\\\\products\\\\clean.ipynb\",\n",
    "        \"data\": \"C:\\\\Users\\\\Admin\\\\pipeline_project\\\\products\\\\clean.csv\",\n",
    "    },\n",
    "    \"preprocess\": {\n",
    "        \"nb\": \"C:\\\\Users\\\\Admin\\\\pipeline_project\\\\products\\\\preprocess.ipynb\",\n",
    "        \"data\": \"C:\\\\Users\\\\Admin\\\\pipeline_project\\\\products\\\\preprocess.csv\",\n",
    "    \n",
    "    }\n",
    "}\n",
    "\n",
    "product = {\n",
    "    \"nb\": \"C:\\\\Users\\\\Admin\\\\pipeline_project\\\\products\\\\feature_eng.ipynb\",\n",
    "    \"data\": \"C:\\\\Users\\\\Admin\\\\pipeline_project\\\\products\\\\feature_eng.csv\",\n",
    "}"
   ]
  },
  {
   "cell_type": "code",
   "execution_count": 4,
   "id": "242fd3ea",
   "metadata": {
    "execution": {
     "iopub.execute_input": "2023-01-14T19:48:24.078184Z",
     "iopub.status.busy": "2023-01-14T19:48:24.078184Z",
     "iopub.status.idle": "2023-01-14T19:48:25.305235Z",
     "shell.execute_reply": "2023-01-14T19:48:25.305235Z"
    },
    "papermill": {
     "duration": 1.229047,
     "end_time": "2023-01-14T19:48:25.305235",
     "exception": false,
     "start_time": "2023-01-14T19:48:24.076188",
     "status": "completed"
    },
    "tags": []
   },
   "outputs": [],
   "source": [
    "import pandas as pd\n",
    "from sklearn import svm\n",
    "from sklearn.feature_selection import SelectKBest\n",
    "from sklearn.feature_selection import chi2\n",
    "from sklearn.model_selection import train_test_split"
   ]
  },
  {
   "cell_type": "code",
   "execution_count": 5,
   "id": "06b63e64",
   "metadata": {
    "execution": {
     "iopub.execute_input": "2023-01-14T19:48:25.305235Z",
     "iopub.status.busy": "2023-01-14T19:48:25.305235Z",
     "iopub.status.idle": "2023-01-14T19:48:25.383349Z",
     "shell.execute_reply": "2023-01-14T19:48:25.383349Z"
    },
    "papermill": {
     "duration": 0.078114,
     "end_time": "2023-01-14T19:48:25.383349",
     "exception": false,
     "start_time": "2023-01-14T19:48:25.305235",
     "status": "completed"
    },
    "tags": []
   },
   "outputs": [],
   "source": [
    "dfcleaned = pd.read_csv(upstream['clean']['data'])\n",
    "dfpreprocess = pd.read_csv(upstream['preprocess']['data'])\n",
    "\n",
    "# replace churn values with 0 and 1\n",
    "dfpreprocess.churn.replace({'Yes':1, 'No':0}, inplace=True)\n",
    "\n",
    "X = dfcleaned.copy()\n",
    "X_rc = dfpreprocess.drop('churn', axis = 1)\n",
    "y = dfpreprocess['churn'].copy()"
   ]
  },
  {
   "cell_type": "markdown",
   "id": "49735114",
   "metadata": {
    "papermill": {
     "duration": 0.0,
     "end_time": "2023-01-14T19:48:25.383349",
     "exception": false,
     "start_time": "2023-01-14T19:48:25.383349",
     "status": "completed"
    },
    "tags": []
   },
   "source": [
    "# Finding Important Features and remove them from the dataframe"
   ]
  },
  {
   "cell_type": "code",
   "execution_count": 6,
   "id": "cbac00a8",
   "metadata": {
    "execution": {
     "iopub.execute_input": "2023-01-14T19:48:25.383349Z",
     "iopub.status.busy": "2023-01-14T19:48:25.383349Z",
     "iopub.status.idle": "2023-01-14T19:48:25.430208Z",
     "shell.execute_reply": "2023-01-14T19:48:25.430208Z"
    },
    "papermill": {
     "duration": 0.046859,
     "end_time": "2023-01-14T19:48:25.430208",
     "exception": false,
     "start_time": "2023-01-14T19:48:25.383349",
     "status": "completed"
    },
    "tags": []
   },
   "outputs": [
    {
     "data": {
      "text/html": [
       "<div>\n",
       "<style scoped>\n",
       "    .dataframe tbody tr th:only-of-type {\n",
       "        vertical-align: middle;\n",
       "    }\n",
       "\n",
       "    .dataframe tbody tr th {\n",
       "        vertical-align: top;\n",
       "    }\n",
       "\n",
       "    .dataframe thead th {\n",
       "        text-align: right;\n",
       "    }\n",
       "</style>\n",
       "<table border=\"1\" class=\"dataframe\">\n",
       "  <thead>\n",
       "    <tr style=\"text-align: right;\">\n",
       "      <th></th>\n",
       "      <th>0</th>\n",
       "      <th>1</th>\n",
       "    </tr>\n",
       "  </thead>\n",
       "  <tbody>\n",
       "    <tr>\n",
       "      <th>32</th>\n",
       "      <td>519.895311</td>\n",
       "      <td>contract_Month-to-month</td>\n",
       "    </tr>\n",
       "    <tr>\n",
       "      <th>34</th>\n",
       "      <td>488.578090</td>\n",
       "      <td>contract_Two year</td>\n",
       "    </tr>\n",
       "    <tr>\n",
       "      <th>39</th>\n",
       "      <td>426.422767</td>\n",
       "      <td>paymentmethod_Electronic check</td>\n",
       "    </tr>\n",
       "    <tr>\n",
       "      <th>14</th>\n",
       "      <td>416.182917</td>\n",
       "      <td>onlinesecurity_No</td>\n",
       "    </tr>\n",
       "    <tr>\n",
       "      <th>23</th>\n",
       "      <td>406.117093</td>\n",
       "      <td>techsupport_No</td>\n",
       "    </tr>\n",
       "    <tr>\n",
       "      <th>12</th>\n",
       "      <td>374.476216</td>\n",
       "      <td>internetservice_Fiber optic</td>\n",
       "    </tr>\n",
       "    <tr>\n",
       "      <th>27</th>\n",
       "      <td>286.520193</td>\n",
       "      <td>streamingtv_No internet service</td>\n",
       "    </tr>\n",
       "    <tr>\n",
       "      <th>24</th>\n",
       "      <td>286.520193</td>\n",
       "      <td>techsupport_No internet service</td>\n",
       "    </tr>\n",
       "    <tr>\n",
       "      <th>21</th>\n",
       "      <td>286.520193</td>\n",
       "      <td>deviceprotection_No internet service</td>\n",
       "    </tr>\n",
       "    <tr>\n",
       "      <th>18</th>\n",
       "      <td>286.520193</td>\n",
       "      <td>onlinebackup_No internet service</td>\n",
       "    </tr>\n",
       "    <tr>\n",
       "      <th>15</th>\n",
       "      <td>286.520193</td>\n",
       "      <td>onlinesecurity_No internet service</td>\n",
       "    </tr>\n",
       "    <tr>\n",
       "      <th>13</th>\n",
       "      <td>286.520193</td>\n",
       "      <td>internetservice_No</td>\n",
       "    </tr>\n",
       "    <tr>\n",
       "      <th>30</th>\n",
       "      <td>286.520193</td>\n",
       "      <td>streamingmovies_No internet service</td>\n",
       "    </tr>\n",
       "    <tr>\n",
       "      <th>17</th>\n",
       "      <td>284.074903</td>\n",
       "      <td>onlinebackup_No</td>\n",
       "    </tr>\n",
       "    <tr>\n",
       "      <th>20</th>\n",
       "      <td>251.672514</td>\n",
       "      <td>deviceprotection_No</td>\n",
       "    </tr>\n",
       "    <tr>\n",
       "      <th>33</th>\n",
       "      <td>176.123171</td>\n",
       "      <td>contract_One year</td>\n",
       "    </tr>\n",
       "    <tr>\n",
       "      <th>35</th>\n",
       "      <td>153.480111</td>\n",
       "      <td>paperlessbilling_No</td>\n",
       "    </tr>\n",
       "    <tr>\n",
       "      <th>16</th>\n",
       "      <td>147.295858</td>\n",
       "      <td>onlinesecurity_Yes</td>\n",
       "    </tr>\n",
       "    <tr>\n",
       "      <th>25</th>\n",
       "      <td>135.559783</td>\n",
       "      <td>techsupport_Yes</td>\n",
       "    </tr>\n",
       "    <tr>\n",
       "      <th>5</th>\n",
       "      <td>133.036443</td>\n",
       "      <td>dependents_Yes</td>\n",
       "    </tr>\n",
       "    <tr>\n",
       "      <th>36</th>\n",
       "      <td>105.680863</td>\n",
       "      <td>paperlessbilling_Yes</td>\n",
       "    </tr>\n",
       "    <tr>\n",
       "      <th>38</th>\n",
       "      <td>99.582057</td>\n",
       "      <td>paymentmethod_Credit card (automatic)</td>\n",
       "    </tr>\n",
       "    <tr>\n",
       "      <th>3</th>\n",
       "      <td>82.412083</td>\n",
       "      <td>partner_Yes</td>\n",
       "    </tr>\n",
       "    <tr>\n",
       "      <th>2</th>\n",
       "      <td>77.002446</td>\n",
       "      <td>partner_No</td>\n",
       "    </tr>\n",
       "    <tr>\n",
       "      <th>37</th>\n",
       "      <td>76.485913</td>\n",
       "      <td>paymentmethod_Bank transfer (automatic)</td>\n",
       "    </tr>\n",
       "    <tr>\n",
       "      <th>29</th>\n",
       "      <td>72.898756</td>\n",
       "      <td>streamingmovies_No</td>\n",
       "    </tr>\n",
       "    <tr>\n",
       "      <th>11</th>\n",
       "      <td>71.313180</td>\n",
       "      <td>internetservice_DSL</td>\n",
       "    </tr>\n",
       "    <tr>\n",
       "      <th>26</th>\n",
       "      <td>70.349516</td>\n",
       "      <td>streamingtv_No</td>\n",
       "    </tr>\n",
       "    <tr>\n",
       "      <th>4</th>\n",
       "      <td>56.903891</td>\n",
       "      <td>dependents_No</td>\n",
       "    </tr>\n",
       "    <tr>\n",
       "      <th>40</th>\n",
       "      <td>45.651590</td>\n",
       "      <td>paymentmethod_Mailed check</td>\n",
       "    </tr>\n",
       "    <tr>\n",
       "      <th>19</th>\n",
       "      <td>31.217694</td>\n",
       "      <td>onlinebackup_Yes</td>\n",
       "    </tr>\n",
       "    <tr>\n",
       "      <th>22</th>\n",
       "      <td>20.226662</td>\n",
       "      <td>deviceprotection_Yes</td>\n",
       "    </tr>\n",
       "    <tr>\n",
       "      <th>28</th>\n",
       "      <td>17.334235</td>\n",
       "      <td>streamingtv_Yes</td>\n",
       "    </tr>\n",
       "    <tr>\n",
       "      <th>31</th>\n",
       "      <td>16.242531</td>\n",
       "      <td>streamingmovies_Yes</td>\n",
       "    </tr>\n",
       "    <tr>\n",
       "      <th>10</th>\n",
       "      <td>6.548512</td>\n",
       "      <td>multiplelines_Yes</td>\n",
       "    </tr>\n",
       "    <tr>\n",
       "      <th>8</th>\n",
       "      <td>3.874782</td>\n",
       "      <td>multiplelines_No</td>\n",
       "    </tr>\n",
       "    <tr>\n",
       "      <th>9</th>\n",
       "      <td>0.907148</td>\n",
       "      <td>multiplelines_No phone service</td>\n",
       "    </tr>\n",
       "    <tr>\n",
       "      <th>6</th>\n",
       "      <td>0.907148</td>\n",
       "      <td>phoneservice_No</td>\n",
       "    </tr>\n",
       "    <tr>\n",
       "      <th>0</th>\n",
       "      <td>0.263668</td>\n",
       "      <td>gender_Female</td>\n",
       "    </tr>\n",
       "    <tr>\n",
       "      <th>1</th>\n",
       "      <td>0.258699</td>\n",
       "      <td>gender_Male</td>\n",
       "    </tr>\n",
       "    <tr>\n",
       "      <th>7</th>\n",
       "      <td>0.097261</td>\n",
       "      <td>phoneservice_Yes</td>\n",
       "    </tr>\n",
       "  </tbody>\n",
       "</table>\n",
       "</div>"
      ],
      "text/plain": [
       "             0                                        1\n",
       "32  519.895311                  contract_Month-to-month\n",
       "34  488.578090                        contract_Two year\n",
       "39  426.422767           paymentmethod_Electronic check\n",
       "14  416.182917                        onlinesecurity_No\n",
       "23  406.117093                           techsupport_No\n",
       "12  374.476216              internetservice_Fiber optic\n",
       "27  286.520193          streamingtv_No internet service\n",
       "24  286.520193          techsupport_No internet service\n",
       "21  286.520193     deviceprotection_No internet service\n",
       "18  286.520193         onlinebackup_No internet service\n",
       "15  286.520193       onlinesecurity_No internet service\n",
       "13  286.520193                       internetservice_No\n",
       "30  286.520193      streamingmovies_No internet service\n",
       "17  284.074903                          onlinebackup_No\n",
       "20  251.672514                      deviceprotection_No\n",
       "33  176.123171                        contract_One year\n",
       "35  153.480111                      paperlessbilling_No\n",
       "16  147.295858                       onlinesecurity_Yes\n",
       "25  135.559783                          techsupport_Yes\n",
       "5   133.036443                           dependents_Yes\n",
       "36  105.680863                     paperlessbilling_Yes\n",
       "38   99.582057    paymentmethod_Credit card (automatic)\n",
       "3    82.412083                              partner_Yes\n",
       "2    77.002446                               partner_No\n",
       "37   76.485913  paymentmethod_Bank transfer (automatic)\n",
       "29   72.898756                       streamingmovies_No\n",
       "11   71.313180                      internetservice_DSL\n",
       "26   70.349516                           streamingtv_No\n",
       "4    56.903891                            dependents_No\n",
       "40   45.651590               paymentmethod_Mailed check\n",
       "19   31.217694                         onlinebackup_Yes\n",
       "22   20.226662                     deviceprotection_Yes\n",
       "28   17.334235                          streamingtv_Yes\n",
       "31   16.242531                      streamingmovies_Yes\n",
       "10    6.548512                        multiplelines_Yes\n",
       "8     3.874782                         multiplelines_No\n",
       "9     0.907148           multiplelines_No phone service\n",
       "6     0.907148                          phoneservice_No\n",
       "0     0.263668                            gender_Female\n",
       "1     0.258699                              gender_Male\n",
       "7     0.097261                         phoneservice_Yes"
      ]
     },
     "execution_count": 6,
     "metadata": {},
     "output_type": "execute_result"
    }
   ],
   "source": [
    "list_one =[]\n",
    "feature_ranking = SelectKBest(chi2, k=5)\n",
    "fit = feature_ranking.fit(X, y)\n",
    "\n",
    "fmt = '%-8s%-20s%s'\n",
    "\n",
    "for i, (score, feature) in enumerate(zip(feature_ranking.scores_, X.columns)):\n",
    "    list_one.append((score, feature))\n",
    "    \n",
    "dfObj = pd.DataFrame(list_one) \n",
    "dfObj.sort_values(by=[0], ascending = False)"
   ]
  },
  {
   "cell_type": "code",
   "execution_count": 7,
   "id": "8c0a449a",
   "metadata": {
    "execution": {
     "iopub.execute_input": "2023-01-14T19:48:25.445811Z",
     "iopub.status.busy": "2023-01-14T19:48:25.445811Z",
     "iopub.status.idle": "2023-01-14T19:48:25.461450Z",
     "shell.execute_reply": "2023-01-14T19:48:25.461450Z"
    },
    "papermill": {
     "duration": 0.031242,
     "end_time": "2023-01-14T19:48:25.461450",
     "exception": false,
     "start_time": "2023-01-14T19:48:25.430208",
     "status": "completed"
    },
    "tags": []
   },
   "outputs": [],
   "source": [
    "# dropping the last 5\n",
    "X_rc.drop(['multiplelines_No phone service','phoneservice_No','gender_Female','gender_Male','phoneservice_Yes'],axis=1,inplace=True)"
   ]
  },
  {
   "cell_type": "code",
   "execution_count": 8,
   "id": "f26bd3c7",
   "metadata": {
    "execution": {
     "iopub.execute_input": "2023-01-14T19:48:25.461450Z",
     "iopub.status.busy": "2023-01-14T19:48:25.461450Z",
     "iopub.status.idle": "2023-01-14T19:48:25.617650Z",
     "shell.execute_reply": "2023-01-14T19:48:25.617650Z"
    },
    "papermill": {
     "duration": 0.1562,
     "end_time": "2023-01-14T19:48:25.617650",
     "exception": false,
     "start_time": "2023-01-14T19:48:25.461450",
     "status": "completed"
    },
    "tags": []
   },
   "outputs": [],
   "source": [
    "X_rc.join(y).to_csv(product['data'], index=False)"
   ]
  },
  {
   "cell_type": "code",
   "execution_count": null,
   "id": "85a7fede",
   "metadata": {
    "lines_to_next_cell": 2,
    "papermill": {
     "duration": 0.015582,
     "end_time": "2023-01-14T19:48:25.633232",
     "exception": false,
     "start_time": "2023-01-14T19:48:25.617650",
     "status": "completed"
    },
    "tags": []
   },
   "outputs": [],
   "source": [
    "\n",
    "\n",
    "\n"
   ]
  }
 ],
 "metadata": {
  "jupytext": {
   "cell_metadata_filter": "tags,-all",
   "main_language": "python",
   "notebook_metadata_filter": "-all",
   "text_representation": {
    "extension": ".py",
    "format_name": "percent"
   }
  },
  "kernelspec": {
   "display_name": "Python 3 (ipykernel)",
   "language": "python",
   "name": "python3"
  },
  "language_info": {
   "codemirror_mode": {
    "name": "ipython",
    "version": 3
   },
   "file_extension": ".py",
   "mimetype": "text/x-python",
   "name": "python",
   "nbconvert_exporter": "python",
   "pygments_lexer": "ipython3",
   "version": "3.9.13"
  },
  "papermill": {
   "duration": 3.660208,
   "end_time": "2023-01-14T19:48:25.867602",
   "exception": null,
   "input_path": "C:\\Users\\Admin\\AppData\\Local\\Temp\\tmpaf5bk023.ipynb",
   "output_path": "C:\\Users\\Admin\\pipeline_project\\products\\feature_eng.ipynb",
   "parameters": {
    "product": {
     "data": "C:\\Users\\Admin\\pipeline_project\\products\\feature_eng.csv",
     "nb": "C:\\Users\\Admin\\pipeline_project\\products\\feature_eng.ipynb"
    },
    "upstream": {
     "clean": {
      "data": "C:\\Users\\Admin\\pipeline_project\\products\\clean.csv",
      "nb": "C:\\Users\\Admin\\pipeline_project\\products\\clean.ipynb"
     },
     "preprocess": {
      "data": "C:\\Users\\Admin\\pipeline_project\\products\\preprocess.csv",
      "nb": "C:\\Users\\Admin\\pipeline_project\\products\\preprocess.ipynb"
     }
    }
   },
   "start_time": "2023-01-14T19:48:22.207394"
  }
 },
 "nbformat": 4,
 "nbformat_minor": 5
}