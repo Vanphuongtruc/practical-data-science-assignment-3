{
 "cells": [
  {
   "cell_type": "code",
   "execution_count": 1,
   "id": "c5854d11",
   "metadata": {
    "execution": {
     "iopub.execute_input": "2023-01-05T04:05:48.076080Z",
     "iopub.status.busy": "2023-01-05T04:05:48.076080Z",
     "iopub.status.idle": "2023-01-05T04:05:48.086183Z",
     "shell.execute_reply": "2023-01-05T04:05:48.086183Z"
    },
    "lines_to_next_cell": 2,
    "papermill": {
     "duration": 0.015167,
     "end_time": "2023-01-05T04:05:48.086183",
     "exception": false,
     "start_time": "2023-01-05T04:05:48.071016",
     "status": "completed"
    },
    "tags": [
     "parameters"
    ]
   },
   "outputs": [],
   "source": [
    "# If this task has dependencies, list them them here\n",
    "# (e.g. upstream = ['some_task']), otherwise leave as None.\n",
    "upstream = ['get']\n",
    "\n",
    "# This is a placeholder, leave it as None\n",
    "product = None"
   ]
  },
  {
   "cell_type": "code",
   "execution_count": 2,
   "id": "df324a90",
   "metadata": {
    "execution": {
     "iopub.execute_input": "2023-01-05T04:06:47.016004Z",
     "iopub.status.busy": "2023-01-05T04:06:47.016004Z",
     "iopub.status.idle": "2023-01-05T04:06:47.025693Z",
     "shell.execute_reply": "2023-01-05T04:06:47.025693Z"
    },
    "papermill": {
     "duration": 0.019632,
     "end_time": "2023-01-05T04:06:47.025693",
     "exception": false,
     "start_time": "2023-01-05T04:06:47.006061",
     "status": "completed"
    },
    "tags": [
     "injected-parameters"
    ]
   },
   "outputs": [],
   "source": [
    "# Parameters\n",
    "upstream = {\"get\": {\"nb\": \"C:\\\\Users\\\\\\Admin\\\\rmit\\pactical daata science\\\\Assignment3\\\\pipeline\\\\products\\\\new.ipynb\", \"data\": \"C:\\\\Users\\\\\\Admin\\\\rmit\\pactical daata science\\\\Assignment3\\\\pipeline\\\\products\\\\new.csv\"}}\n",
    "\n",
    "product = {\"nb\": \"C:\\\\Users\\\\\\Admin\\\\rmit\\pactical daata science\\\\Assignment3\\\\pipeline\\\\products\\\\clean_serve.ipynb\", \"data\": \"C:\\\\Users\\\\\\Admin\\\\rmit\\pactical daata science\\\\Assignment3\\\\pipeline\\\\products\\\\clean_serve.csv\"}\n"
   ]
  },
  {
   "cell_type": "code",
   "execution_count": 3,
   "id": "76d46cc8",
   "metadata": {
    "execution": {
     "iopub.execute_input": "2023-01-05T04:05:48.115939Z",
     "iopub.status.busy": "2023-01-05T04:05:48.115939Z",
     "iopub.status.idle": "2023-01-05T04:05:48.656129Z",
     "shell.execute_reply": "2023-01-05T04:05:48.656129Z"
    },
    "papermill": {
     "duration": 0.550034,
     "end_time": "2023-01-05T04:05:48.656129",
     "exception": false,
     "start_time": "2023-01-05T04:05:48.106095",
     "status": "completed"
    },
    "tags": []
   },
   "outputs": [],
   "source": [
    "import pandas as pd"
   ]
  },
  {
   "cell_type": "code",
   "execution_count": 4,
   "metadata": {},
   "outputs": [],
   "source": [
    "df = pd.read_csv(upstream['get']['data'])"
   ]
  },
  {
   "attachments": {},
   "cell_type": "markdown",
   "metadata": {},
   "source": [
    "# Producing dummy variables for categorical data"
   ]
  },
  {
   "attachments": {},
   "cell_type": "markdown",
   "metadata": {},
   "source": [
    "Drop customerid columns because it does not add values to the analysis. Dropping will also reduce the dimensionality."
   ]
  },
  {
   "cell_type": "code",
   "execution_count": 5,
   "metadata": {},
   "outputs": [
    {
     "data": {
      "text/html": [
       "<div>\n",
       "<style scoped>\n",
       "    .dataframe tbody tr th:only-of-type {\n",
       "        vertical-align: middle;\n",
       "    }\n",
       "\n",
       "    .dataframe tbody tr th {\n",
       "        vertical-align: top;\n",
       "    }\n",
       "\n",
       "    .dataframe thead th {\n",
       "        text-align: right;\n",
       "    }\n",
       "</style>\n",
       "<table border=\"1\" class=\"dataframe\">\n",
       "  <thead>\n",
       "    <tr style=\"text-align: right;\">\n",
       "      <th></th>\n",
       "      <th>gender</th>\n",
       "      <th>SeniorCitizen</th>\n",
       "      <th>Partner</th>\n",
       "      <th>Dependents</th>\n",
       "      <th>tenure</th>\n",
       "      <th>PhoneService</th>\n",
       "      <th>MultipleLines</th>\n",
       "      <th>InternetService</th>\n",
       "      <th>OnlineSecurity</th>\n",
       "      <th>OnlineBackup</th>\n",
       "      <th>DeviceProtection</th>\n",
       "      <th>TechSupport</th>\n",
       "      <th>StreamingTV</th>\n",
       "      <th>StreamingMovies</th>\n",
       "      <th>Contract</th>\n",
       "      <th>PaperlessBilling</th>\n",
       "      <th>PaymentMethod</th>\n",
       "      <th>MonthlyCharges</th>\n",
       "      <th>TotalCharges</th>\n",
       "      <th>Churn</th>\n",
       "    </tr>\n",
       "  </thead>\n",
       "  <tbody>\n",
       "    <tr>\n",
       "      <th>0</th>\n",
       "      <td>Female</td>\n",
       "      <td>0</td>\n",
       "      <td>Yes</td>\n",
       "      <td>No</td>\n",
       "      <td>1</td>\n",
       "      <td>No</td>\n",
       "      <td>No phone service</td>\n",
       "      <td>DSL</td>\n",
       "      <td>No</td>\n",
       "      <td>Yes</td>\n",
       "      <td>No</td>\n",
       "      <td>No</td>\n",
       "      <td>No</td>\n",
       "      <td>No</td>\n",
       "      <td>Month-to-month</td>\n",
       "      <td>Yes</td>\n",
       "      <td>Electronic check</td>\n",
       "      <td>29.85</td>\n",
       "      <td>29.85</td>\n",
       "      <td>No</td>\n",
       "    </tr>\n",
       "    <tr>\n",
       "      <th>1</th>\n",
       "      <td>Male</td>\n",
       "      <td>0</td>\n",
       "      <td>No</td>\n",
       "      <td>No</td>\n",
       "      <td>34</td>\n",
       "      <td>Yes</td>\n",
       "      <td>No</td>\n",
       "      <td>DSL</td>\n",
       "      <td>Yes</td>\n",
       "      <td>No</td>\n",
       "      <td>Yes</td>\n",
       "      <td>No</td>\n",
       "      <td>No</td>\n",
       "      <td>No</td>\n",
       "      <td>One year</td>\n",
       "      <td>No</td>\n",
       "      <td>Mailed check</td>\n",
       "      <td>56.95</td>\n",
       "      <td>1889.5</td>\n",
       "      <td>No</td>\n",
       "    </tr>\n",
       "  </tbody>\n",
       "</table>\n",
       "</div>"
      ],
      "text/plain": [
       "   gender  SeniorCitizen Partner Dependents  tenure PhoneService  \\\n",
       "0  Female              0     Yes         No       1           No   \n",
       "1    Male              0      No         No      34          Yes   \n",
       "\n",
       "      MultipleLines InternetService OnlineSecurity OnlineBackup  \\\n",
       "0  No phone service             DSL             No          Yes   \n",
       "1                No             DSL            Yes           No   \n",
       "\n",
       "  DeviceProtection TechSupport StreamingTV StreamingMovies        Contract  \\\n",
       "0               No          No          No              No  Month-to-month   \n",
       "1              Yes          No          No              No        One year   \n",
       "\n",
       "  PaperlessBilling     PaymentMethod  MonthlyCharges TotalCharges Churn  \n",
       "0              Yes  Electronic check           29.85        29.85    No  \n",
       "1               No      Mailed check           56.95       1889.5    No  "
      ]
     },
     "execution_count": 5,
     "metadata": {},
     "output_type": "execute_result"
    }
   ],
   "source": [
    "df = df.iloc[:,1:]\n",
    "df.head(2)"
   ]
  },
  {
   "cell_type": "code",
   "execution_count": 6,
   "metadata": {},
   "outputs": [
    {
     "data": {
      "text/plain": [
       "Index(['gender', 'seniorcitizen', 'partner', 'dependents', 'tenure',\n",
       "       'phoneservice', 'multiplelines', 'internetservice', 'onlinesecurity',\n",
       "       'onlinebackup', 'deviceprotection', 'techsupport', 'streamingtv',\n",
       "       'streamingmovies', 'contract', 'paperlessbilling', 'paymentmethod',\n",
       "       'monthlycharges', 'totalcharges', 'churn'],\n",
       "      dtype='object')"
      ]
     },
     "execution_count": 6,
     "metadata": {},
     "output_type": "execute_result"
    }
   ],
   "source": [
    "# make all column names lower case\n",
    "df.columns = map(str.lower, df.columns)\n",
    "df.columns"
   ]
  },
  {
   "cell_type": "code",
   "execution_count": 7,
   "metadata": {},
   "outputs": [
    {
     "name": "stdout",
     "output_type": "stream",
     "text": [
      "<class 'pandas.core.frame.DataFrame'>\n",
      "RangeIndex: 7043 entries, 0 to 7042\n",
      "Data columns (total 15 columns):\n",
      " #   Column            Non-Null Count  Dtype \n",
      "---  ------            --------------  ----- \n",
      " 0   gender            7043 non-null   object\n",
      " 1   partner           7043 non-null   object\n",
      " 2   dependents        7043 non-null   object\n",
      " 3   phoneservice      7043 non-null   object\n",
      " 4   multiplelines     7043 non-null   object\n",
      " 5   internetservice   7043 non-null   object\n",
      " 6   onlinesecurity    7043 non-null   object\n",
      " 7   onlinebackup      7043 non-null   object\n",
      " 8   deviceprotection  7043 non-null   object\n",
      " 9   techsupport       7043 non-null   object\n",
      " 10  streamingtv       7043 non-null   object\n",
      " 11  streamingmovies   7043 non-null   object\n",
      " 12  contract          7043 non-null   object\n",
      " 13  paperlessbilling  7043 non-null   object\n",
      " 14  paymentmethod     7043 non-null   object\n",
      "dtypes: object(15)\n",
      "memory usage: 825.5+ KB\n"
     ]
    }
   ],
   "source": [
    "dummydf = df[['gender','partner','dependents','phoneservice','multiplelines','internetservice','onlinesecurity','onlinebackup',\n",
    "\n",
    "            'deviceprotection','techsupport','streamingtv','streamingmovies','contract','paperlessbilling','paymentmethod']]\n",
    "dummydf.info()"
   ]
  },
  {
   "cell_type": "code",
   "execution_count": 8,
   "metadata": {},
   "outputs": [
    {
     "name": "stdout",
     "output_type": "stream",
     "text": [
      "<class 'pandas.core.frame.DataFrame'>\n",
      "RangeIndex: 7043 entries, 0 to 7042\n",
      "Data columns (total 41 columns):\n",
      " #   Column                                   Non-Null Count  Dtype\n",
      "---  ------                                   --------------  -----\n",
      " 0   gender_Female                            7043 non-null   uint8\n",
      " 1   gender_Male                              7043 non-null   uint8\n",
      " 2   partner_No                               7043 non-null   uint8\n",
      " 3   partner_Yes                              7043 non-null   uint8\n",
      " 4   dependents_No                            7043 non-null   uint8\n",
      " 5   dependents_Yes                           7043 non-null   uint8\n",
      " 6   phoneservice_No                          7043 non-null   uint8\n",
      " 7   phoneservice_Yes                         7043 non-null   uint8\n",
      " 8   multiplelines_No                         7043 non-null   uint8\n",
      " 9   multiplelines_No phone service           7043 non-null   uint8\n",
      " 10  multiplelines_Yes                        7043 non-null   uint8\n",
      " 11  internetservice_DSL                      7043 non-null   uint8\n",
      " 12  internetservice_Fiber optic              7043 non-null   uint8\n",
      " 13  internetservice_No                       7043 non-null   uint8\n",
      " 14  onlinesecurity_No                        7043 non-null   uint8\n",
      " 15  onlinesecurity_No internet service       7043 non-null   uint8\n",
      " 16  onlinesecurity_Yes                       7043 non-null   uint8\n",
      " 17  onlinebackup_No                          7043 non-null   uint8\n",
      " 18  onlinebackup_No internet service         7043 non-null   uint8\n",
      " 19  onlinebackup_Yes                         7043 non-null   uint8\n",
      " 20  deviceprotection_No                      7043 non-null   uint8\n",
      " 21  deviceprotection_No internet service     7043 non-null   uint8\n",
      " 22  deviceprotection_Yes                     7043 non-null   uint8\n",
      " 23  techsupport_No                           7043 non-null   uint8\n",
      " 24  techsupport_No internet service          7043 non-null   uint8\n",
      " 25  techsupport_Yes                          7043 non-null   uint8\n",
      " 26  streamingtv_No                           7043 non-null   uint8\n",
      " 27  streamingtv_No internet service          7043 non-null   uint8\n",
      " 28  streamingtv_Yes                          7043 non-null   uint8\n",
      " 29  streamingmovies_No                       7043 non-null   uint8\n",
      " 30  streamingmovies_No internet service      7043 non-null   uint8\n",
      " 31  streamingmovies_Yes                      7043 non-null   uint8\n",
      " 32  contract_Month-to-month                  7043 non-null   uint8\n",
      " 33  contract_One year                        7043 non-null   uint8\n",
      " 34  contract_Two year                        7043 non-null   uint8\n",
      " 35  paperlessbilling_No                      7043 non-null   uint8\n",
      " 36  paperlessbilling_Yes                     7043 non-null   uint8\n",
      " 37  paymentmethod_Bank transfer (automatic)  7043 non-null   uint8\n",
      " 38  paymentmethod_Credit card (automatic)    7043 non-null   uint8\n",
      " 39  paymentmethod_Electronic check           7043 non-null   uint8\n",
      " 40  paymentmethod_Mailed check               7043 non-null   uint8\n",
      "dtypes: uint8(41)\n",
      "memory usage: 282.1 KB\n"
     ]
    }
   ],
   "source": [
    "# create pandas dummy variable for categorical features\n",
    "dummy = pd.get_dummies(dummydf)\n",
    "dummy.info()\n"
   ]
  },
  {
   "cell_type": "code",
   "execution_count": 9,
   "metadata": {},
   "outputs": [],
   "source": [
    "dfcleaned = dummy.copy()\n",
    "dfcleaned.to_csv(product['data'],index=False)"
   ]
  },
  {
   "cell_type": "code",
   "execution_count": null,
   "metadata": {},
   "outputs": [],
   "source": []
  }
 ],
 "metadata": {
  "kernelspec": {
   "display_name": "Python 3",
   "language": "python",
   "name": "python3"
  },
  "language_info": {
   "codemirror_mode": {
    "name": "ipython",
    "version": 3
   },
   "file_extension": ".py",
   "mimetype": "text/x-python",
   "name": "python",
   "nbconvert_exporter": "python",
   "pygments_lexer": "ipython3",
   "version": "3.10.9 (tags/v3.10.9:1dd9be6, Dec  6 2022, 20:01:21) [MSC v.1934 64 bit (AMD64)]"
  },
  "orig_nbformat": 4,
  "vscode": {
   "interpreter": {
    "hash": "58dbfdb34cf82127b32c5737e6183911655ff227e5c11e8f5e4b25048ae98ef2"
   }
  }
 },
 "nbformat": 4,
 "nbformat_minor": 2
}
