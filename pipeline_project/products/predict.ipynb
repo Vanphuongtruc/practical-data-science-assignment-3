{
 "cells": [
  {
   "cell_type": "code",
   "execution_count": 1,
   "id": "148bb91c",
   "metadata": {
    "execution": {
     "iopub.execute_input": "2023-01-14T19:48:54.080414Z",
     "iopub.status.busy": "2023-01-14T19:48:54.080414Z",
     "iopub.status.idle": "2023-01-14T19:48:54.096109Z",
     "shell.execute_reply": "2023-01-14T19:48:54.096109Z"
    },
    "papermill": {
     "duration": 0.015695,
     "end_time": "2023-01-14T19:48:54.096109",
     "exception": false,
     "start_time": "2023-01-14T19:48:54.080414",
     "status": "completed"
    },
    "tags": [
     "parameters"
    ]
   },
   "outputs": [],
   "source": [
    "# declare a list tasks whose products you want to use as inputs\n",
    "upstream = [ 'feature_eng']\n",
    "\n",
    "# This is a placeholder, leave it as None\n",
    "product = None\n",
    "model = None"
   ]
  },
  {
   "cell_type": "code",
   "execution_count": 2,
   "id": "ec2217f1",
   "metadata": {
    "execution": {
     "iopub.execute_input": "2023-01-14T19:48:54.096109Z",
     "iopub.status.busy": "2023-01-14T19:48:54.096109Z",
     "iopub.status.idle": "2023-01-14T19:48:54.111711Z",
     "shell.execute_reply": "2023-01-14T19:48:54.111711Z"
    },
    "papermill": {
     "duration": 0.015602,
     "end_time": "2023-01-14T19:48:54.111711",
     "exception": false,
     "start_time": "2023-01-14T19:48:54.096109",
     "status": "completed"
    },
    "tags": [
     "injected-parameters"
    ]
   },
   "outputs": [],
   "source": [
    "# Parameters\n",
    "upstream = {\n",
    "    \"feature_eng\": {\n",
    "        \"nb\": \"C:\\\\Users\\\\Admin\\\\pipeline_project\\\\products\\\\feature_eng.ipynb\",\n",
    "        \"data\": \"C:\\\\Users\\\\Admin\\\\pipeline_project\\\\products\\\\feature_eng.csv\",\n",
    "    }\n",
    "}\n",
    "product = {\n",
    "    \"nb\": \"C:\\\\Users\\\\Admin\\\\pipeline_project\\\\products\\\\predict.ipynb\",\n",
    "    \"data\": \"C:\\\\Users\\\\Admin\\\\pipeline_project\\\\products\\\\predicts.csv\",\n",
    "}\n"
   ]
  },
  {
   "cell_type": "code",
   "execution_count": 3,
   "id": "e55cd8ec",
   "metadata": {
    "execution": {
     "iopub.execute_input": "2023-01-14T19:48:54.111711Z",
     "iopub.status.busy": "2023-01-14T19:48:54.111711Z",
     "iopub.status.idle": "2023-01-14T19:48:54.127334Z",
     "shell.execute_reply": "2023-01-14T19:48:54.127334Z"
    },
    "papermill": {
     "duration": 0.015623,
     "end_time": "2023-01-14T19:48:54.127334",
     "exception": false,
     "start_time": "2023-01-14T19:48:54.111711",
     "status": "completed"
    },
    "tags": []
   },
   "outputs": [],
   "source": [
    "# Parameters\n",
    "upstream = {\n",
    "    \"feature_eng\": {\n",
    "        \"nb\": \"C:\\\\Users\\\\Admin\\\\pipeline_project\\\\products\\\\feature_eng.ipynb\",\n",
    "        \"data\": \"C:\\\\Users\\\\Admin\\\\pipeline_project\\\\products\\\\feature_eng.csv\",\n",
    "    }\n",
    "} \n",
    "product = {\"nb\": \"C:\\\\Users\\\\Admin\\\\pipeline_project\\\\products\\\\predict.ipynb\", \n",
    "        \"data\": \"C:\\\\Users\\\\Admin\\\\pipeline_project\\\\products\\\\predicts.csv\"}\n",
    "\n",
    "model = \"C:\\\\Users\\\\Admin\\\\pipeline_project\\\\products\\\\model.pickle\""
   ]
  },
  {
   "cell_type": "code",
   "execution_count": 4,
   "id": "c82d88e8",
   "metadata": {
    "execution": {
     "iopub.execute_input": "2023-01-14T19:48:54.127334Z",
     "iopub.status.busy": "2023-01-14T19:48:54.127334Z",
     "iopub.status.idle": "2023-01-14T19:48:55.819105Z",
     "shell.execute_reply": "2023-01-14T19:48:55.819105Z"
    },
    "lines_to_next_cell": 2,
    "papermill": {
     "duration": 1.691771,
     "end_time": "2023-01-14T19:48:55.819105",
     "exception": false,
     "start_time": "2023-01-14T19:48:54.127334",
     "status": "completed"
    },
    "tags": []
   },
   "outputs": [],
   "source": [
    "from pathlib import Path\n",
    "import pickle\n",
    "\n",
    "import pandas as pd\n",
    "\n",
    "model = pickle.loads(Path(model).read_bytes())"
   ]
  },
  {
   "cell_type": "code",
   "execution_count": 5,
   "id": "6921820f",
   "metadata": {
    "execution": {
     "iopub.execute_input": "2023-01-14T19:48:55.834705Z",
     "iopub.status.busy": "2023-01-14T19:48:55.834705Z",
     "iopub.status.idle": "2023-01-14T19:48:55.897148Z",
     "shell.execute_reply": "2023-01-14T19:48:55.897148Z"
    },
    "papermill": {
     "duration": 0.078043,
     "end_time": "2023-01-14T19:48:55.897148",
     "exception": false,
     "start_time": "2023-01-14T19:48:55.819105",
     "status": "completed"
    },
    "tags": []
   },
   "outputs": [],
   "source": [
    "df = pd.read_csv(upstream['feature_eng']['data']).drop('churn', axis = 1)\n",
    "y_pred = model.predict(df)\n",
    "\n",
    "pd.DataFrame({'y_pred': y_pred}).to_csv(product['data'], index=False)"
   ]
  },
  {
   "cell_type": "code",
   "execution_count": null,
   "id": "46fc587b",
   "metadata": {
    "lines_to_next_cell": 2,
    "papermill": {
     "duration": 0.0,
     "end_time": "2023-01-14T19:48:55.897148",
     "exception": false,
     "start_time": "2023-01-14T19:48:55.897148",
     "status": "completed"
    },
    "tags": []
   },
   "outputs": [],
   "source": [
    "\n"
   ]
  }
 ],
 "metadata": {
  "jupytext": {
   "cell_metadata_filter": "tags,-all",
   "main_language": "python",
   "notebook_metadata_filter": "-all",
   "text_representation": {
    "extension": ".py",
    "format_name": "percent"
   }
  },
  "kernelspec": {
   "display_name": "Python 3 (ipykernel)",
   "language": "python",
   "name": "python3"
  },
  "language_info": {
   "codemirror_mode": {
    "name": "ipython",
    "version": 3
   },
   "file_extension": ".py",
   "mimetype": "text/x-python",
   "name": "python",
   "nbconvert_exporter": "python",
   "pygments_lexer": "ipython3",
   "version": "3.9.13"
  },
  "papermill": {
   "duration": 4.479846,
   "end_time": "2023-01-14T19:48:56.271998",
   "exception": null,
   "input_path": "C:\\Users\\Admin\\AppData\\Local\\Temp\\tmpy21t2von.ipynb",
   "output_path": "C:\\Users\\Admin\\pipeline_project\\products\\predict.ipynb",
   "parameters": {
    "product": {
     "data": "C:\\Users\\Admin\\pipeline_project\\products\\predicts.csv",
     "nb": "C:\\Users\\Admin\\pipeline_project\\products\\predict.ipynb"
    },
    "upstream": {
     "feature_eng": {
      "data": "C:\\Users\\Admin\\pipeline_project\\products\\feature_eng.csv",
      "nb": "C:\\Users\\Admin\\pipeline_project\\products\\feature_eng.ipynb"
     }
    }
   },
   "start_time": "2023-01-14T19:48:51.792152"
  }
 },
 "nbformat": 4,
 "nbformat_minor": 5
}