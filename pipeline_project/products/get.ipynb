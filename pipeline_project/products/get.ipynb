{
 "cells": [
  {
   "cell_type": "code",
   "execution_count": 1,
   "id": "cefb97e0",
   "metadata": {
    "execution": {
     "iopub.execute_input": "2023-01-14T19:48:04.177072Z",
     "iopub.status.busy": "2023-01-14T19:48:04.177072Z",
     "iopub.status.idle": "2023-01-14T19:48:04.192724Z",
     "shell.execute_reply": "2023-01-14T19:48:04.192724Z"
    },
    "papermill": {
     "duration": 0.015652,
     "end_time": "2023-01-14T19:48:04.192724",
     "exception": false,
     "start_time": "2023-01-14T19:48:04.177072",
     "status": "completed"
    },
    "tags": [
     "parameters"
    ]
   },
   "outputs": [],
   "source": [
    "# If this task has dependencies, list them them here\n",
    "# (e.g. upstream = ['some_task']), otherwise leave as None.\n",
    "upstream = None\n",
    "\n",
    "# This is a placeholder, leave it as None\n",
    "product = None"
   ]
  },
  {
   "cell_type": "code",
   "execution_count": 2,
   "id": "27987ac0",
   "metadata": {
    "execution": {
     "iopub.execute_input": "2023-01-14T19:48:04.192724Z",
     "iopub.status.busy": "2023-01-14T19:48:04.192724Z",
     "iopub.status.idle": "2023-01-14T19:48:04.208330Z",
     "shell.execute_reply": "2023-01-14T19:48:04.208330Z"
    },
    "papermill": {
     "duration": 0.015606,
     "end_time": "2023-01-14T19:48:04.208330",
     "exception": false,
     "start_time": "2023-01-14T19:48:04.192724",
     "status": "completed"
    },
    "tags": [
     "injected-parameters"
    ]
   },
   "outputs": [],
   "source": [
    "# Parameters\n",
    "product = {\n",
    "    \"nb\": \"C:\\\\Users\\\\Admin\\\\pipeline_project\\\\products\\\\get.ipynb\",\n",
    "    \"data\": \"C:\\\\Users\\\\Admin\\\\pipeline_project\\\\products\\\\raw.csv\",\n",
    "}\n"
   ]
  },
  {
   "cell_type": "code",
   "execution_count": 3,
   "id": "cc9fd8d6",
   "metadata": {
    "execution": {
     "iopub.execute_input": "2023-01-14T19:48:04.208330Z",
     "iopub.status.busy": "2023-01-14T19:48:04.208330Z",
     "iopub.status.idle": "2023-01-14T19:48:04.223953Z",
     "shell.execute_reply": "2023-01-14T19:48:04.223953Z"
    },
    "papermill": {
     "duration": 0.015623,
     "end_time": "2023-01-14T19:48:04.223953",
     "exception": false,
     "start_time": "2023-01-14T19:48:04.208330",
     "status": "completed"
    },
    "tags": []
   },
   "outputs": [],
   "source": [
    "# Parameters\n",
    "product = {\n",
    "    \"nb\": \"C:\\\\Users\\\\Admin\\\\pipeline_project\\\\products\\\\get.ipynb\",\n",
    "    \"data\": \"C:\\\\Users\\\\Admin\\\\pipeline_project\\\\products\\\\raw.csv\",\n",
    "}"
   ]
  },
  {
   "cell_type": "code",
   "execution_count": 4,
   "id": "8302a894",
   "metadata": {
    "execution": {
     "iopub.execute_input": "2023-01-14T19:48:04.223953Z",
     "iopub.status.busy": "2023-01-14T19:48:04.223953Z",
     "iopub.status.idle": "2023-01-14T19:48:04.239589Z",
     "shell.execute_reply": "2023-01-14T19:48:04.239589Z"
    },
    "papermill": {
     "duration": 0.015636,
     "end_time": "2023-01-14T19:48:04.239589",
     "exception": false,
     "start_time": "2023-01-14T19:48:04.223953",
     "status": "completed"
    },
    "tags": []
   },
   "outputs": [],
   "source": [
    "\n",
    "input_path = 'C:\\\\Users\\\\Admin\\\\pipeline_project\\\\CustomerChurn.csv'"
   ]
  },
  {
   "cell_type": "code",
   "execution_count": 5,
   "id": "770b177d",
   "metadata": {
    "execution": {
     "iopub.execute_input": "2023-01-14T19:48:04.239589Z",
     "iopub.status.busy": "2023-01-14T19:48:04.239589Z",
     "iopub.status.idle": "2023-01-14T19:48:04.806562Z",
     "shell.execute_reply": "2023-01-14T19:48:04.806562Z"
    },
    "papermill": {
     "duration": 0.566973,
     "end_time": "2023-01-14T19:48:04.806562",
     "exception": false,
     "start_time": "2023-01-14T19:48:04.239589",
     "status": "completed"
    },
    "tags": []
   },
   "outputs": [],
   "source": [
    "import pandas as pd"
   ]
  },
  {
   "cell_type": "code",
   "execution_count": 6,
   "id": "36deeb49",
   "metadata": {
    "execution": {
     "iopub.execute_input": "2023-01-14T19:48:04.806562Z",
     "iopub.status.busy": "2023-01-14T19:48:04.806562Z",
     "iopub.status.idle": "2023-01-14T19:48:04.888137Z",
     "shell.execute_reply": "2023-01-14T19:48:04.887139Z"
    },
    "papermill": {
     "duration": 0.083569,
     "end_time": "2023-01-14T19:48:04.890131",
     "exception": false,
     "start_time": "2023-01-14T19:48:04.806562",
     "status": "completed"
    },
    "tags": []
   },
   "outputs": [
    {
     "data": {
      "text/html": [
       "<div>\n",
       "<style scoped>\n",
       "    .dataframe tbody tr th:only-of-type {\n",
       "        vertical-align: middle;\n",
       "    }\n",
       "\n",
       "    .dataframe tbody tr th {\n",
       "        vertical-align: top;\n",
       "    }\n",
       "\n",
       "    .dataframe thead th {\n",
       "        text-align: right;\n",
       "    }\n",
       "</style>\n",
       "<table border=\"1\" class=\"dataframe\">\n",
       "  <thead>\n",
       "    <tr style=\"text-align: right;\">\n",
       "      <th></th>\n",
       "      <th>customerID</th>\n",
       "      <th>gender</th>\n",
       "      <th>SeniorCitizen</th>\n",
       "      <th>Partner</th>\n",
       "      <th>Dependents</th>\n",
       "      <th>tenure</th>\n",
       "      <th>PhoneService</th>\n",
       "      <th>MultipleLines</th>\n",
       "      <th>InternetService</th>\n",
       "      <th>OnlineSecurity</th>\n",
       "      <th>...</th>\n",
       "      <th>DeviceProtection</th>\n",
       "      <th>TechSupport</th>\n",
       "      <th>StreamingTV</th>\n",
       "      <th>StreamingMovies</th>\n",
       "      <th>Contract</th>\n",
       "      <th>PaperlessBilling</th>\n",
       "      <th>PaymentMethod</th>\n",
       "      <th>MonthlyCharges</th>\n",
       "      <th>TotalCharges</th>\n",
       "      <th>Churn</th>\n",
       "    </tr>\n",
       "  </thead>\n",
       "  <tbody>\n",
       "    <tr>\n",
       "      <th>0</th>\n",
       "      <td>7590-VHVEG</td>\n",
       "      <td>Female</td>\n",
       "      <td>0</td>\n",
       "      <td>Yes</td>\n",
       "      <td>No</td>\n",
       "      <td>1</td>\n",
       "      <td>No</td>\n",
       "      <td>No phone service</td>\n",
       "      <td>DSL</td>\n",
       "      <td>No</td>\n",
       "      <td>...</td>\n",
       "      <td>No</td>\n",
       "      <td>No</td>\n",
       "      <td>No</td>\n",
       "      <td>No</td>\n",
       "      <td>Month-to-month</td>\n",
       "      <td>Yes</td>\n",
       "      <td>Electronic check</td>\n",
       "      <td>29.85</td>\n",
       "      <td>29.85</td>\n",
       "      <td>No</td>\n",
       "    </tr>\n",
       "    <tr>\n",
       "      <th>1</th>\n",
       "      <td>5575-GNVDE</td>\n",
       "      <td>Male</td>\n",
       "      <td>0</td>\n",
       "      <td>No</td>\n",
       "      <td>No</td>\n",
       "      <td>34</td>\n",
       "      <td>Yes</td>\n",
       "      <td>No</td>\n",
       "      <td>DSL</td>\n",
       "      <td>Yes</td>\n",
       "      <td>...</td>\n",
       "      <td>Yes</td>\n",
       "      <td>No</td>\n",
       "      <td>No</td>\n",
       "      <td>No</td>\n",
       "      <td>One year</td>\n",
       "      <td>No</td>\n",
       "      <td>Mailed check</td>\n",
       "      <td>56.95</td>\n",
       "      <td>1889.5</td>\n",
       "      <td>No</td>\n",
       "    </tr>\n",
       "    <tr>\n",
       "      <th>2</th>\n",
       "      <td>3668-QPYBK</td>\n",
       "      <td>Male</td>\n",
       "      <td>0</td>\n",
       "      <td>No</td>\n",
       "      <td>No</td>\n",
       "      <td>2</td>\n",
       "      <td>Yes</td>\n",
       "      <td>No</td>\n",
       "      <td>DSL</td>\n",
       "      <td>Yes</td>\n",
       "      <td>...</td>\n",
       "      <td>No</td>\n",
       "      <td>No</td>\n",
       "      <td>No</td>\n",
       "      <td>No</td>\n",
       "      <td>Month-to-month</td>\n",
       "      <td>Yes</td>\n",
       "      <td>Mailed check</td>\n",
       "      <td>53.85</td>\n",
       "      <td>108.15</td>\n",
       "      <td>Yes</td>\n",
       "    </tr>\n",
       "    <tr>\n",
       "      <th>3</th>\n",
       "      <td>7795-CFOCW</td>\n",
       "      <td>Male</td>\n",
       "      <td>0</td>\n",
       "      <td>No</td>\n",
       "      <td>No</td>\n",
       "      <td>45</td>\n",
       "      <td>No</td>\n",
       "      <td>No phone service</td>\n",
       "      <td>DSL</td>\n",
       "      <td>Yes</td>\n",
       "      <td>...</td>\n",
       "      <td>Yes</td>\n",
       "      <td>Yes</td>\n",
       "      <td>No</td>\n",
       "      <td>No</td>\n",
       "      <td>One year</td>\n",
       "      <td>No</td>\n",
       "      <td>Bank transfer (automatic)</td>\n",
       "      <td>42.30</td>\n",
       "      <td>1840.75</td>\n",
       "      <td>No</td>\n",
       "    </tr>\n",
       "    <tr>\n",
       "      <th>4</th>\n",
       "      <td>9237-HQITU</td>\n",
       "      <td>Female</td>\n",
       "      <td>0</td>\n",
       "      <td>No</td>\n",
       "      <td>No</td>\n",
       "      <td>2</td>\n",
       "      <td>Yes</td>\n",
       "      <td>No</td>\n",
       "      <td>Fiber optic</td>\n",
       "      <td>No</td>\n",
       "      <td>...</td>\n",
       "      <td>No</td>\n",
       "      <td>No</td>\n",
       "      <td>No</td>\n",
       "      <td>No</td>\n",
       "      <td>Month-to-month</td>\n",
       "      <td>Yes</td>\n",
       "      <td>Electronic check</td>\n",
       "      <td>70.70</td>\n",
       "      <td>151.65</td>\n",
       "      <td>Yes</td>\n",
       "    </tr>\n",
       "  </tbody>\n",
       "</table>\n",
       "<p>5 rows × 21 columns</p>\n",
       "</div>"
      ],
      "text/plain": [
       "   customerID  gender  SeniorCitizen Partner Dependents  tenure PhoneService  \\\n",
       "0  7590-VHVEG  Female              0     Yes         No       1           No   \n",
       "1  5575-GNVDE    Male              0      No         No      34          Yes   \n",
       "2  3668-QPYBK    Male              0      No         No       2          Yes   \n",
       "3  7795-CFOCW    Male              0      No         No      45           No   \n",
       "4  9237-HQITU  Female              0      No         No       2          Yes   \n",
       "\n",
       "      MultipleLines InternetService OnlineSecurity  ... DeviceProtection  \\\n",
       "0  No phone service             DSL             No  ...               No   \n",
       "1                No             DSL            Yes  ...              Yes   \n",
       "2                No             DSL            Yes  ...               No   \n",
       "3  No phone service             DSL            Yes  ...              Yes   \n",
       "4                No     Fiber optic             No  ...               No   \n",
       "\n",
       "  TechSupport StreamingTV StreamingMovies        Contract PaperlessBilling  \\\n",
       "0          No          No              No  Month-to-month              Yes   \n",
       "1          No          No              No        One year               No   \n",
       "2          No          No              No  Month-to-month              Yes   \n",
       "3         Yes          No              No        One year               No   \n",
       "4          No          No              No  Month-to-month              Yes   \n",
       "\n",
       "               PaymentMethod MonthlyCharges  TotalCharges Churn  \n",
       "0           Electronic check          29.85         29.85    No  \n",
       "1               Mailed check          56.95        1889.5    No  \n",
       "2               Mailed check          53.85        108.15   Yes  \n",
       "3  Bank transfer (automatic)          42.30       1840.75    No  \n",
       "4           Electronic check          70.70        151.65   Yes  \n",
       "\n",
       "[5 rows x 21 columns]"
      ]
     },
     "execution_count": 6,
     "metadata": {},
     "output_type": "execute_result"
    }
   ],
   "source": [
    "# Reading shopping data\n",
    "X_train = pd.read_csv(input_path)\n",
    "df = X_train.copy()\n",
    "df.head()"
   ]
  },
  {
   "cell_type": "code",
   "execution_count": 7,
   "id": "05006e60",
   "metadata": {
    "execution": {
     "iopub.execute_input": "2023-01-14T19:48:04.900105Z",
     "iopub.status.busy": "2023-01-14T19:48:04.900105Z",
     "iopub.status.idle": "2023-01-14T19:48:04.999840Z",
     "shell.execute_reply": "2023-01-14T19:48:04.998840Z"
    },
    "papermill": {
     "duration": 0.108709,
     "end_time": "2023-01-14T19:48:05.002829",
     "exception": false,
     "start_time": "2023-01-14T19:48:04.894120",
     "status": "completed"
    },
    "tags": []
   },
   "outputs": [],
   "source": [
    "df.to_csv(product['data'], index=False)"
   ]
  },
  {
   "cell_type": "code",
   "execution_count": null,
   "id": "bf96abb2",
   "metadata": {
    "lines_to_next_cell": 2,
    "papermill": {
     "duration": 0.004986,
     "end_time": "2023-01-14T19:48:05.014797",
     "exception": false,
     "start_time": "2023-01-14T19:48:05.009811",
     "status": "completed"
    },
    "tags": []
   },
   "outputs": [],
   "source": [
    "\n",
    "\n",
    "\n",
    "\n"
   ]
  }
 ],
 "metadata": {
  "jupytext": {
   "cell_metadata_filter": "tags,-all",
   "main_language": "python",
   "notebook_metadata_filter": "-all",
   "text_representation": {
    "extension": ".py",
    "format_name": "percent"
   }
  },
  "kernelspec": {
   "display_name": "Python 3 (ipykernel)",
   "language": "python",
   "name": "python3"
  },
  "language_info": {
   "codemirror_mode": {
    "name": "ipython",
    "version": 3
   },
   "file_extension": ".py",
   "mimetype": "text/x-python",
   "name": "python",
   "nbconvert_exporter": "python",
   "pygments_lexer": "ipython3",
   "version": "3.9.13"
  },
  "papermill": {
   "duration": 3.37459,
   "end_time": "2023-01-14T19:48:05.274004",
   "exception": null,
   "input_path": "C:\\Users\\Admin\\AppData\\Local\\Temp\\tmpy8lcx8zj.ipynb",
   "output_path": "C:\\Users\\Admin\\pipeline_project\\products\\get.ipynb",
   "parameters": {
    "product": {
     "data": "C:\\Users\\Admin\\pipeline_project\\products\\raw.csv",
     "nb": "C:\\Users\\Admin\\pipeline_project\\products\\get.ipynb"
    }
   },
   "start_time": "2023-01-14T19:48:01.899414"
  }
 },
 "nbformat": 4,
 "nbformat_minor": 5
}