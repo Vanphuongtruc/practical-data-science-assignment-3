{
 "cells": [
  {
   "cell_type": "code",
   "execution_count": 1,
   "id": "2d53e6b8",
   "metadata": {
    "execution": {
     "iopub.execute_input": "2023-01-14T19:48:07.820656Z",
     "iopub.status.busy": "2023-01-14T19:48:07.820656Z",
     "iopub.status.idle": "2023-01-14T19:48:07.851899Z",
     "shell.execute_reply": "2023-01-14T19:48:07.851899Z"
    },
    "papermill": {
     "duration": 0.031243,
     "end_time": "2023-01-14T19:48:07.851899",
     "exception": false,
     "start_time": "2023-01-14T19:48:07.820656",
     "status": "completed"
    },
    "tags": [
     "parameters"
    ]
   },
   "outputs": [],
   "source": [
    "# If this task has dependencies, list them them here\n",
    "# (e.g. upstream = ['some_task']), otherwise leave as None.\n",
    "upstream = ['get']\n",
    "\n",
    "# This is a placeholder, leave it as None\n",
    "product = None"
   ]
  },
  {
   "cell_type": "code",
   "execution_count": 2,
   "id": "2c61561f",
   "metadata": {
    "execution": {
     "iopub.execute_input": "2023-01-14T19:48:07.867521Z",
     "iopub.status.busy": "2023-01-14T19:48:07.867521Z",
     "iopub.status.idle": "2023-01-14T19:48:07.883142Z",
     "shell.execute_reply": "2023-01-14T19:48:07.883142Z"
    },
    "papermill": {
     "duration": 0.031243,
     "end_time": "2023-01-14T19:48:07.883142",
     "exception": false,
     "start_time": "2023-01-14T19:48:07.851899",
     "status": "completed"
    },
    "tags": [
     "injected-parameters"
    ]
   },
   "outputs": [],
   "source": [
    "# Parameters\n",
    "upstream = {\n",
    "    \"get\": {\n",
    "        \"nb\": \"C:\\\\Users\\\\Admin\\\\pipeline_project\\\\products\\\\get.ipynb\",\n",
    "        \"data\": \"C:\\\\Users\\\\Admin\\\\pipeline_project\\\\products\\\\raw.csv\",\n",
    "    }\n",
    "}\n",
    "product = {\n",
    "    \"nb\": \"C:\\\\Users\\\\Admin\\\\pipeline_project\\\\products\\\\clean.ipynb\",\n",
    "    \"data\": \"C:\\\\Users\\\\Admin\\\\pipeline_project\\\\products\\\\clean.csv\",\n",
    "}\n"
   ]
  },
  {
   "cell_type": "code",
   "execution_count": 3,
   "id": "ef9cd5ce",
   "metadata": {
    "execution": {
     "iopub.execute_input": "2023-01-14T19:48:07.898763Z",
     "iopub.status.busy": "2023-01-14T19:48:07.898763Z",
     "iopub.status.idle": "2023-01-14T19:48:07.914385Z",
     "shell.execute_reply": "2023-01-14T19:48:07.914385Z"
    },
    "lines_to_next_cell": 2,
    "papermill": {
     "duration": 0.031243,
     "end_time": "2023-01-14T19:48:07.914385",
     "exception": false,
     "start_time": "2023-01-14T19:48:07.883142",
     "status": "completed"
    },
    "tags": []
   },
   "outputs": [],
   "source": [
    "# Parameters\n",
    "upstream = {\n",
    "    \"get\": {\n",
    "        \"nb\": \"C:\\\\Users\\\\Admin\\\\pipeline_project\\\\products\\\\get.ipynb\",\n",
    "        \"data\": \"C:\\\\Users\\\\Admin\\\\pipeline_project\\\\products\\\\raw.csv\",\n",
    "    }\n",
    "}\n",
    "product = {\n",
    "    \"nb\": \"C:\\\\Users\\\\Admin\\\\pipeline_project\\\\products\\\\clean.ipynb\",\n",
    "    \"data\": \"C:\\\\Users\\\\Admin\\\\pipeline_project\\\\products\\\\clean.csv\",\n",
    "}"
   ]
  },
  {
   "cell_type": "code",
   "execution_count": 4,
   "id": "f0eaa52f",
   "metadata": {
    "execution": {
     "iopub.execute_input": "2023-01-14T19:48:07.914385Z",
     "iopub.status.busy": "2023-01-14T19:48:07.914385Z",
     "iopub.status.idle": "2023-01-14T19:48:08.535626Z",
     "shell.execute_reply": "2023-01-14T19:48:08.535626Z"
    },
    "papermill": {
     "duration": 0.623754,
     "end_time": "2023-01-14T19:48:08.538139",
     "exception": false,
     "start_time": "2023-01-14T19:48:07.914385",
     "status": "completed"
    },
    "tags": []
   },
   "outputs": [],
   "source": [
    "import pandas as pd"
   ]
  },
  {
   "cell_type": "code",
   "execution_count": 5,
   "id": "07f05f61",
   "metadata": {
    "execution": {
     "iopub.execute_input": "2023-01-14T19:48:08.546117Z",
     "iopub.status.busy": "2023-01-14T19:48:08.545120Z",
     "iopub.status.idle": "2023-01-14T19:48:08.601606Z",
     "shell.execute_reply": "2023-01-14T19:48:08.600609Z"
    },
    "papermill": {
     "duration": 0.062435,
     "end_time": "2023-01-14T19:48:08.603601",
     "exception": false,
     "start_time": "2023-01-14T19:48:08.541166",
     "status": "completed"
    },
    "tags": []
   },
   "outputs": [],
   "source": [
    "df = pd.read_csv(upstream['get']['data'])"
   ]
  },
  {
   "cell_type": "markdown",
   "id": "a7d046bd",
   "metadata": {
    "papermill": {
     "duration": 0.002992,
     "end_time": "2023-01-14T19:48:08.612577",
     "exception": false,
     "start_time": "2023-01-14T19:48:08.609585",
     "status": "completed"
    },
    "tags": []
   },
   "source": [
    "# Producing dummy variables for categorical data"
   ]
  },
  {
   "cell_type": "markdown",
   "id": "ebeea064",
   "metadata": {
    "papermill": {
     "duration": 0.004987,
     "end_time": "2023-01-14T19:48:08.623548",
     "exception": false,
     "start_time": "2023-01-14T19:48:08.618561",
     "status": "completed"
    },
    "tags": []
   },
   "source": [
    "Drop customerid columns because it does not add values to the analysis. Dropping will also reduce the dimensionality."
   ]
  },
  {
   "cell_type": "code",
   "execution_count": 6,
   "id": "f3c9f9de",
   "metadata": {
    "execution": {
     "iopub.execute_input": "2023-01-14T19:48:08.638084Z",
     "iopub.status.busy": "2023-01-14T19:48:08.637513Z",
     "iopub.status.idle": "2023-01-14T19:48:08.679533Z",
     "shell.execute_reply": "2023-01-14T19:48:08.678536Z"
    },
    "papermill": {
     "duration": 0.051998,
     "end_time": "2023-01-14T19:48:08.681530",
     "exception": false,
     "start_time": "2023-01-14T19:48:08.629532",
     "status": "completed"
    },
    "tags": []
   },
   "outputs": [
    {
     "data": {
      "text/html": [
       "<div>\n",
       "<style scoped>\n",
       "    .dataframe tbody tr th:only-of-type {\n",
       "        vertical-align: middle;\n",
       "    }\n",
       "\n",
       "    .dataframe tbody tr th {\n",
       "        vertical-align: top;\n",
       "    }\n",
       "\n",
       "    .dataframe thead th {\n",
       "        text-align: right;\n",
       "    }\n",
       "</style>\n",
       "<table border=\"1\" class=\"dataframe\">\n",
       "  <thead>\n",
       "    <tr style=\"text-align: right;\">\n",
       "      <th></th>\n",
       "      <th>gender</th>\n",
       "      <th>SeniorCitizen</th>\n",
       "      <th>Partner</th>\n",
       "      <th>Dependents</th>\n",
       "      <th>tenure</th>\n",
       "      <th>PhoneService</th>\n",
       "      <th>MultipleLines</th>\n",
       "      <th>InternetService</th>\n",
       "      <th>OnlineSecurity</th>\n",
       "      <th>OnlineBackup</th>\n",
       "      <th>DeviceProtection</th>\n",
       "      <th>TechSupport</th>\n",
       "      <th>StreamingTV</th>\n",
       "      <th>StreamingMovies</th>\n",
       "      <th>Contract</th>\n",
       "      <th>PaperlessBilling</th>\n",
       "      <th>PaymentMethod</th>\n",
       "      <th>MonthlyCharges</th>\n",
       "      <th>TotalCharges</th>\n",
       "      <th>Churn</th>\n",
       "    </tr>\n",
       "  </thead>\n",
       "  <tbody>\n",
       "    <tr>\n",
       "      <th>0</th>\n",
       "      <td>Female</td>\n",
       "      <td>0</td>\n",
       "      <td>Yes</td>\n",
       "      <td>No</td>\n",
       "      <td>1</td>\n",
       "      <td>No</td>\n",
       "      <td>No phone service</td>\n",
       "      <td>DSL</td>\n",
       "      <td>No</td>\n",
       "      <td>Yes</td>\n",
       "      <td>No</td>\n",
       "      <td>No</td>\n",
       "      <td>No</td>\n",
       "      <td>No</td>\n",
       "      <td>Month-to-month</td>\n",
       "      <td>Yes</td>\n",
       "      <td>Electronic check</td>\n",
       "      <td>29.85</td>\n",
       "      <td>29.85</td>\n",
       "      <td>No</td>\n",
       "    </tr>\n",
       "    <tr>\n",
       "      <th>1</th>\n",
       "      <td>Male</td>\n",
       "      <td>0</td>\n",
       "      <td>No</td>\n",
       "      <td>No</td>\n",
       "      <td>34</td>\n",
       "      <td>Yes</td>\n",
       "      <td>No</td>\n",
       "      <td>DSL</td>\n",
       "      <td>Yes</td>\n",
       "      <td>No</td>\n",
       "      <td>Yes</td>\n",
       "      <td>No</td>\n",
       "      <td>No</td>\n",
       "      <td>No</td>\n",
       "      <td>One year</td>\n",
       "      <td>No</td>\n",
       "      <td>Mailed check</td>\n",
       "      <td>56.95</td>\n",
       "      <td>1889.5</td>\n",
       "      <td>No</td>\n",
       "    </tr>\n",
       "  </tbody>\n",
       "</table>\n",
       "</div>"
      ],
      "text/plain": [
       "   gender  SeniorCitizen Partner Dependents  tenure PhoneService  \\\n",
       "0  Female              0     Yes         No       1           No   \n",
       "1    Male              0      No         No      34          Yes   \n",
       "\n",
       "      MultipleLines InternetService OnlineSecurity OnlineBackup  \\\n",
       "0  No phone service             DSL             No          Yes   \n",
       "1                No             DSL            Yes           No   \n",
       "\n",
       "  DeviceProtection TechSupport StreamingTV StreamingMovies        Contract  \\\n",
       "0               No          No          No              No  Month-to-month   \n",
       "1              Yes          No          No              No        One year   \n",
       "\n",
       "  PaperlessBilling     PaymentMethod  MonthlyCharges TotalCharges Churn  \n",
       "0              Yes  Electronic check           29.85        29.85    No  \n",
       "1               No      Mailed check           56.95       1889.5    No  "
      ]
     },
     "execution_count": 6,
     "metadata": {},
     "output_type": "execute_result"
    }
   ],
   "source": [
    "df = df.iloc[:,1:]\n",
    "df.head(2)"
   ]
  },
  {
   "cell_type": "code",
   "execution_count": 7,
   "id": "dbaa7771",
   "metadata": {
    "execution": {
     "iopub.execute_input": "2023-01-14T19:48:08.689507Z",
     "iopub.status.busy": "2023-01-14T19:48:08.689507Z",
     "iopub.status.idle": "2023-01-14T19:48:08.708456Z",
     "shell.execute_reply": "2023-01-14T19:48:08.708456Z"
    },
    "papermill": {
     "duration": 0.024934,
     "end_time": "2023-01-14T19:48:08.710451",
     "exception": false,
     "start_time": "2023-01-14T19:48:08.685517",
     "status": "completed"
    },
    "tags": []
   },
   "outputs": [
    {
     "data": {
      "text/plain": [
       "Index(['gender', 'seniorcitizen', 'partner', 'dependents', 'tenure',\n",
       "       'phoneservice', 'multiplelines', 'internetservice', 'onlinesecurity',\n",
       "       'onlinebackup', 'deviceprotection', 'techsupport', 'streamingtv',\n",
       "       'streamingmovies', 'contract', 'paperlessbilling', 'paymentmethod',\n",
       "       'monthlycharges', 'totalcharges', 'churn'],\n",
       "      dtype='object')"
      ]
     },
     "execution_count": 7,
     "metadata": {},
     "output_type": "execute_result"
    }
   ],
   "source": [
    "# make all column names lower case\n",
    "df.columns = map(str.lower, df.columns)\n",
    "df.columns"
   ]
  },
  {
   "cell_type": "code",
   "execution_count": 8,
   "id": "f89d80e7",
   "metadata": {
    "execution": {
     "iopub.execute_input": "2023-01-14T19:48:08.718430Z",
     "iopub.status.busy": "2023-01-14T19:48:08.718430Z",
     "iopub.status.idle": "2023-01-14T19:48:08.753636Z",
     "shell.execute_reply": "2023-01-14T19:48:08.753636Z"
    },
    "papermill": {
     "duration": 0.041203,
     "end_time": "2023-01-14T19:48:08.755643",
     "exception": false,
     "start_time": "2023-01-14T19:48:08.714440",
     "status": "completed"
    },
    "tags": []
   },
   "outputs": [
    {
     "name": "stdout",
     "output_type": "stream",
     "text": [
      "<class 'pandas.core.frame.DataFrame'>\n",
      "RangeIndex: 7043 entries, 0 to 7042\n",
      "Data columns (total 15 columns):\n",
      " #   Column            Non-Null Count  Dtype \n",
      "---  ------            --------------  ----- \n",
      " 0   gender            7043 non-null   object\n",
      " 1   partner           7043 non-null   object\n",
      " 2   dependents        7043 non-null   object\n",
      " 3   phoneservice      7043 non-null   object\n",
      " 4   multiplelines     7043 non-null   object\n",
      " 5   internetservice   7043 non-null   object\n",
      " 6   onlinesecurity    7043 non-null   object\n",
      " 7   onlinebackup      7043 non-null   object\n",
      " 8   deviceprotection  7043 non-null   object\n",
      " 9   techsupport       7043 non-null   object\n",
      " 10  streamingtv       7043 non-null   object\n",
      " 11  streamingmovies   7043 non-null   object\n",
      " 12  contract          7043 non-null   object\n",
      " 13  paperlessbilling  7043 non-null   object\n",
      " 14  paymentmethod     7043 non-null   object\n",
      "dtypes: object(15)\n",
      "memory usage: 825.5+ KB\n"
     ]
    }
   ],
   "source": [
    "dummydf = df[['gender','partner','dependents','phoneservice','multiplelines','internetservice','onlinesecurity','onlinebackup',\n",
    "\n",
    "            'deviceprotection','techsupport','streamingtv','streamingmovies','contract','paperlessbilling','paymentmethod']]\n",
    "dummydf.info()"
   ]
  },
  {
   "cell_type": "code",
   "execution_count": 9,
   "id": "303ac6d7",
   "metadata": {
    "execution": {
     "iopub.execute_input": "2023-01-14T19:48:08.764621Z",
     "iopub.status.busy": "2023-01-14T19:48:08.764621Z",
     "iopub.status.idle": "2023-01-14T19:48:08.803594Z",
     "shell.execute_reply": "2023-01-14T19:48:08.803594Z"
    },
    "lines_to_next_cell": 2,
    "papermill": {
     "duration": 0.046003,
     "end_time": "2023-01-14T19:48:08.805636",
     "exception": false,
     "start_time": "2023-01-14T19:48:08.759633",
     "status": "completed"
    },
    "tags": []
   },
   "outputs": [
    {
     "name": "stdout",
     "output_type": "stream",
     "text": [
      "<class 'pandas.core.frame.DataFrame'>\n",
      "RangeIndex: 7043 entries, 0 to 7042\n",
      "Data columns (total 41 columns):\n",
      " #   Column                                   Non-Null Count  Dtype\n",
      "---  ------                                   --------------  -----\n",
      " 0   gender_Female                            7043 non-null   uint8\n",
      " 1   gender_Male                              7043 non-null   uint8\n",
      " 2   partner_No                               7043 non-null   uint8\n",
      " 3   partner_Yes                              7043 non-null   uint8\n",
      " 4   dependents_No                            7043 non-null   uint8\n",
      " 5   dependents_Yes                           7043 non-null   uint8\n",
      " 6   phoneservice_No                          7043 non-null   uint8\n",
      " 7   phoneservice_Yes                         7043 non-null   uint8\n",
      " 8   multiplelines_No                         7043 non-null   uint8\n",
      " 9   multiplelines_No phone service           7043 non-null   uint8\n",
      " 10  multiplelines_Yes                        7043 non-null   uint8\n",
      " 11  internetservice_DSL                      7043 non-null   uint8\n",
      " 12  internetservice_Fiber optic              7043 non-null   uint8\n",
      " 13  internetservice_No                       7043 non-null   uint8\n",
      " 14  onlinesecurity_No                        7043 non-null   uint8\n",
      " 15  onlinesecurity_No internet service       7043 non-null   uint8\n",
      " 16  onlinesecurity_Yes                       7043 non-null   uint8\n",
      " 17  onlinebackup_No                          7043 non-null   uint8\n",
      " 18  onlinebackup_No internet service         7043 non-null   uint8\n",
      " 19  onlinebackup_Yes                         7043 non-null   uint8\n",
      " 20  deviceprotection_No                      7043 non-null   uint8\n",
      " 21  deviceprotection_No internet service     7043 non-null   uint8\n",
      " 22  deviceprotection_Yes                     7043 non-null   uint8\n",
      " 23  techsupport_No                           7043 non-null   uint8\n",
      " 24  techsupport_No internet service          7043 non-null   uint8\n",
      " 25  techsupport_Yes                          7043 non-null   uint8\n",
      " 26  streamingtv_No                           7043 non-null   uint8\n",
      " 27  streamingtv_No internet service          7043 non-null   uint8\n",
      " 28  streamingtv_Yes                          7043 non-null   uint8\n",
      " 29  streamingmovies_No                       7043 non-null   uint8\n",
      " 30  streamingmovies_No internet service      7043 non-null   uint8\n",
      " 31  streamingmovies_Yes                      7043 non-null   uint8\n",
      " 32  contract_Month-to-month                  7043 non-null   uint8\n",
      " 33  contract_One year                        7043 non-null   uint8\n",
      " 34  contract_Two year                        7043 non-null   uint8\n",
      " 35  paperlessbilling_No                      7043 non-null   uint8\n",
      " 36  paperlessbilling_Yes                     7043 non-null   uint8\n",
      " 37  paymentmethod_Bank transfer (automatic)  7043 non-null   uint8\n",
      " 38  paymentmethod_Credit card (automatic)    7043 non-null   uint8\n",
      " 39  paymentmethod_Electronic check           7043 non-null   uint8\n",
      " 40  paymentmethod_Mailed check               7043 non-null   uint8\n",
      "dtypes: uint8(41)\n",
      "memory usage: 282.1 KB\n"
     ]
    }
   ],
   "source": [
    "# create pandas dummy variable for categorical features\n",
    "dummy = pd.get_dummies(dummydf)\n",
    "dummy.info()"
   ]
  },
  {
   "cell_type": "code",
   "execution_count": 10,
   "id": "0cdc297d",
   "metadata": {
    "execution": {
     "iopub.execute_input": "2023-01-14T19:48:08.814577Z",
     "iopub.status.busy": "2023-01-14T19:48:08.814577Z",
     "iopub.status.idle": "2023-01-14T19:48:08.884523Z",
     "shell.execute_reply": "2023-01-14T19:48:08.884523Z"
    },
    "papermill": {
     "duration": 0.076953,
     "end_time": "2023-01-14T19:48:08.887541",
     "exception": false,
     "start_time": "2023-01-14T19:48:08.810588",
     "status": "completed"
    },
    "tags": []
   },
   "outputs": [],
   "source": [
    "dfcleaned = dummy.copy()\n",
    "dfcleaned.to_csv(product['data'],index=False)"
   ]
  },
  {
   "cell_type": "code",
   "execution_count": null,
   "id": "f76e3443",
   "metadata": {
    "lines_to_next_cell": 2,
    "papermill": {
     "duration": 0.003966,
     "end_time": "2023-01-14T19:48:08.895493",
     "exception": false,
     "start_time": "2023-01-14T19:48:08.891527",
     "status": "completed"
    },
    "tags": []
   },
   "outputs": [],
   "source": [
    "\n"
   ]
  }
 ],
 "metadata": {
  "jupytext": {
   "cell_metadata_filter": "tags,-all",
   "main_language": "python",
   "notebook_metadata_filter": "-all",
   "text_representation": {
    "extension": ".py",
    "format_name": "percent"
   }
  },
  "kernelspec": {
   "display_name": "Python 3 (ipykernel)",
   "language": "python",
   "name": "python3"
  },
  "language_info": {
   "codemirror_mode": {
    "name": "ipython",
    "version": 3
   },
   "file_extension": ".py",
   "mimetype": "text/x-python",
   "name": "python",
   "nbconvert_exporter": "python",
   "pygments_lexer": "ipython3",
   "version": "3.9.13"
  },
  "papermill": {
   "duration": 3.835413,
   "end_time": "2023-01-14T19:48:09.137322",
   "exception": null,
   "input_path": "C:\\Users\\Admin\\AppData\\Local\\Temp\\tmpe28h00_o.ipynb",
   "output_path": "C:\\Users\\Admin\\pipeline_project\\products\\clean.ipynb",
   "parameters": {
    "product": {
     "data": "C:\\Users\\Admin\\pipeline_project\\products\\clean.csv",
     "nb": "C:\\Users\\Admin\\pipeline_project\\products\\clean.ipynb"
    },
    "upstream": {
     "get": {
      "data": "C:\\Users\\Admin\\pipeline_project\\products\\raw.csv",
      "nb": "C:\\Users\\Admin\\pipeline_project\\products\\get.ipynb"
     }
    }
   },
   "start_time": "2023-01-14T19:48:05.301909"
  }
 },
 "nbformat": 4,
 "nbformat_minor": 5
}